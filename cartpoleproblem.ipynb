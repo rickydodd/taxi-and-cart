{
 "metadata": {
  "language_info": {
   "codemirror_mode": {
    "name": "ipython",
    "version": 3
   },
   "file_extension": ".py",
   "mimetype": "text/x-python",
   "name": "python",
   "nbconvert_exporter": "python",
   "pygments_lexer": "ipython3",
   "version": "3.8.5"
  },
  "orig_nbformat": 2,
  "kernelspec": {
   "name": "python3",
   "display_name": "Python 3",
   "language": "python"
  }
 },
 "nbformat": 4,
 "nbformat_minor": 2,
 "cells": [
  {
   "cell_type": "code",
   "execution_count": 1,
   "metadata": {},
   "outputs": [],
   "source": [
    "'''\n",
    "    File: cart-pole-problem.ipynb\n",
    "    \n",
    "    The Care-Pole Problem using OpenAI Gym.\n",
    "    Agent is made to solve the problem with a random policy and then with an \"optimal\" policy.\n",
    "'''\n",
    "\n",
    "from IPython.display import clear_output\n",
    "from sklearn.preprocessing import KBinsDiscretizer\n",
    "import gym as g\n",
    "import random as rnd\n",
    "import numpy as np\n",
    "import time, math"
   ]
  },
  {
   "cell_type": "code",
   "execution_count": 2,
   "metadata": {},
   "outputs": [],
   "source": [
    "env = g.make(\"CartPole-v1\").env"
   ]
  },
  {
   "cell_type": "code",
   "execution_count": 3,
   "metadata": {
    "tags": []
   },
   "outputs": [
    {
     "output_type": "stream",
     "name": "stdout",
     "text": [
      "Results after 100 episodes -\nMean average of timesteps: 0.21\nMean average of rewards: 0.21\nMean average of penalties incurred: 1.0\n"
     ]
    }
   ],
   "source": [
    "''' having the agent try solve the environment with a random policy '''\n",
    "\n",
    "total_epochs, total_penalties, total_rewards = 0, 0, 0\n",
    "done = False\n",
    "episodes = 100\n",
    "\n",
    "for _ in range(100):\n",
    "    epochs, penalties, episode_rewards, reward = 0, 0, 0, 0\n",
    "    obserservation = env.reset()\n",
    "        \n",
    "    while not done:\n",
    "        action = env.action_space.sample()\n",
    "        next_state, reward, done, info = env.step(action)\n",
    "            \n",
    "        epochs += 1\n",
    "        episode_rewards += reward\n",
    "        \n",
    "    if episode_rewards < 200:\n",
    "        penalties += 1\n",
    "\n",
    "    total_epochs += epochs\n",
    "    total_penalties += penalties\n",
    "    total_rewards += episode_rewards\n",
    "\n",
    "print(\"Results after {} episodes -\".format(episodes))\n",
    "print(\"Mean average of timesteps: {}\".format(total_epochs / episodes))\n",
    "print(\"Mean average of rewards: {}\".format(total_rewards / episodes))\n",
    "print(\"Mean average of penalties incurred: {}\".format(total_penalties / episodes))"
   ]
  },
  {
   "cell_type": "code",
   "execution_count": 4,
   "metadata": {
    "tags": []
   },
   "outputs": [
    {
     "output_type": "stream",
     "name": "stdout",
     "text": [
      "Episode: 20000\nTraining complete.\n"
     ]
    }
   ],
   "source": [
    "n_bins = (4, 8) # selected arbitarily low, used as bins/buckets for discretizing the problem space\n",
    "lower_bounds = [env.observation_space.low[2], -math.radians(50)]\n",
    "upper_bounds = [env.observation_space.high[2], math.radians(50)]\n",
    "\n",
    "q_table = np.zeros(n_bins + (env.action_space.n,))\n",
    "\n",
    "def discretizer(state):\n",
    "    # discretizer(state) changes the state from a continuous one to one that conforms to the selected bins\n",
    "    _, __, pole_angle, pole_velocity = state\n",
    "    est = KBinsDiscretizer(n_bins=n_bins, encode='ordinal', strategy='uniform')\n",
    "    est.fit([lower_bounds, upper_bounds])\n",
    "    return tuple(map(int, est.transform([[pole_angle, pole_velocity]])[0]))\n",
    "\n",
    "# hyperparameters, not optimized\n",
    "alpha = 0.3\n",
    "gamma = 0.8\n",
    "epsilon = 0.2\n",
    "\n",
    "for episode in range(1, 20001):\n",
    "    state = discretizer(env.reset())\n",
    "    done = False\n",
    "\n",
    "    while not done:\n",
    "        if rnd.uniform(0, 1) < epsilon:\n",
    "            action = env.action_space.sample()\n",
    "        else:\n",
    "            action = np.argmax(q_table[state])\n",
    "            \n",
    "        observation, reward, done, info = env.step(action)\n",
    "        next_state = discretizer(observation)\n",
    "\n",
    "        # the next three lines relate to applying the equation to update the q-table\n",
    "        old_value = q_table[state][action]\n",
    "        next_max = np.max(q_table[next_state])\n",
    "        new_value = (1 - alpha) * old_value + alpha * (reward + gamma * next_max)\n",
    "\n",
    "        q_table[state][action] = new_value # write result to q-table\n",
    "\n",
    "        state = next_state\n",
    "        \n",
    "    if episode % 100 == 0:\n",
    "        clear_output(wait=True)\n",
    "        print(\"Episode: {}\".format(episode))\n",
    "\n",
    "print(\"Training complete.\")"
   ]
  },
  {
   "cell_type": "code",
   "execution_count": 5,
   "metadata": {},
   "outputs": [
    {
     "output_type": "stream",
     "name": "stdout",
     "text": [
      "\nResults after 100 episodes -\nMean average of timesteps: 30.06\nMean average of rewards: 30.06\nMean average of penalties incurred: 1.0\n"
     ]
    }
   ],
   "source": [
    "''' Evaluating the agent in the environment after training with Q-Learning '''\n",
    "\n",
    "total_epochs, total_penalties, total_rewards = 0, 0, 0\n",
    "episodes = 100\n",
    "\n",
    "for _ in range(episodes):\n",
    "    epochs, penalties, episode_rewards, reward = 0, 0, 0, 0\n",
    "    state = discretizer(env.reset())\n",
    "    done = False\n",
    "\n",
    "    while not done:\n",
    "        # env.render() # uncomment this and the environment closer to render\n",
    "        action = np.argmax(q_table[state])\n",
    "        observation, reward, done, info = env.step(action)\n",
    "        state = discretizer(observation)\n",
    "\n",
    "        epochs += 1\n",
    "        episode_rewards += reward\n",
    "\n",
    "    if episode_rewards < 200:\n",
    "        # if the agent lasted fewer than 200 timesteps in the episode, consider it a penalty (for analysis purposes)\n",
    "        penalties += 1\n",
    "\n",
    "    total_epochs += epochs\n",
    "    total_penalties += penalties\n",
    "    total_rewards += episode_rewards\n",
    "# env.close()\n",
    "\n",
    "print(\"\\nResults after {} episodes -\".format(episodes))\n",
    "print(\"Mean average of timesteps: {}\".format(total_epochs / episodes))\n",
    "print(\"Mean average of rewards: {}\".format(total_rewards / episodes))\n",
    "print(\"Mean average of penalties incurred: {}\".format(total_penalties / episodes))"
   ]
  }
 ]
}