{
 "metadata": {
  "language_info": {
   "codemirror_mode": {
    "name": "ipython",
    "version": 3
   },
   "file_extension": ".py",
   "mimetype": "text/x-python",
   "name": "python",
   "nbconvert_exporter": "python",
   "pygments_lexer": "ipython3",
   "version": "3.8.5"
  },
  "orig_nbformat": 2,
  "kernelspec": {
   "name": "python3",
   "display_name": "Python 3",
   "language": "python"
  }
 },
 "nbformat": 4,
 "nbformat_minor": 2,
 "cells": [
  {
   "cell_type": "code",
   "execution_count": 1,
   "metadata": {},
   "outputs": [],
   "source": [
    "'''\n",
    "    File: taxiproblem.ipynb\n",
    "    \n",
    "    The Taxi Problem using OpenAI Gym.\n",
    "    Agent is made to solve the environment with a random policy and then with an \"optimal\" policy.\n",
    "'''\n",
    "\n",
    "from IPython.display import clear_output\n",
    "import gym as g\n",
    "import random as rnd\n",
    "import numpy as np\n",
    "import time"
   ]
  },
  {
   "cell_type": "code",
   "execution_count": 2,
   "metadata": {},
   "outputs": [],
   "source": [
    "# Storing the Taxi v3 environment into env\n",
    "env = g.make(\"Taxi-v3\").env"
   ]
  },
  {
   "cell_type": "code",
   "execution_count": 3,
   "metadata": {},
   "outputs": [
    {
     "output_type": "stream",
     "name": "stdout",
     "text": [
      "Timesteps taken: 2111\nPenalties incurred: 731\n"
     ]
    }
   ],
   "source": [
    "''' Having the agent solve the environment with random policy '''\n",
    "\n",
    "env.s = 328 # setting the environment's state to a specific state (328, in this case)\n",
    "epochs = 0\n",
    "penalties, reward = 0, 0\n",
    "\n",
    "frames = [] # used to store frames for later animation\n",
    "\n",
    "done = False\n",
    "\n",
    "while not done:\n",
    "    action = env.action_space.sample() # select a random action from the possible actions\n",
    "    # then proceed to the next timestep, where the agent performs action\n",
    "    state, reward, done, info = env.step(action)\n",
    "    \n",
    "    if reward == -10:\n",
    "        # if the agent attempts to drop-off or pick-up in the incorrect state,\n",
    "        # then a penalty is applied\n",
    "        penalties += 1\n",
    "    \n",
    "    # building a dictionary of rendered frames for animation purposes\n",
    "    frames.append({\n",
    "        'frame': env.render(mode='ansi'),\n",
    "        'state': state,\n",
    "        'action': action,\n",
    "        'reward': reward\n",
    "    })\n",
    "    \n",
    "    epochs += 1\n",
    "\n",
    "print(\"Timesteps taken: {}\".format(epochs))\n",
    "print(\"Penalties incurred: {}\".format(penalties))"
   ]
  },
  {
   "cell_type": "code",
   "execution_count": 4,
   "metadata": {},
   "outputs": [
    {
     "output_type": "stream",
     "name": "stdout",
     "text": [
      "+---------+\n|\u001b[35m\u001b[34;1m\u001b[43mR\u001b[0m\u001b[0m\u001b[0m: | : :G|\n| : | : : |\n| : : : : |\n| | : | : |\n|Y| : |B: |\n+---------+\n  (Dropoff)\n\nTimestep: 2111\nState: 0\nAction: 5\nReward: 20\n"
     ]
    }
   ],
   "source": [
    "''' Animating the agent's attempt at solving the environment with random policy '''\n",
    "\n",
    "for i, frame in enumerate(frames):\n",
    "    clear_output(wait=True)\n",
    "    print(frame['frame'])\n",
    "    print(\"Timestep: {}\".format(i+1))\n",
    "    print(\"State: {}\".format(frame['state']))\n",
    "    print(\"Action: {}\".format(frame['action']))\n",
    "    print(\"Reward: {}\".format(frame['reward']))\n",
    "    time.sleep(0.1)"
   ]
  },
  {
   "cell_type": "code",
   "execution_count": 5,
   "metadata": {},
   "outputs": [
    {
     "output_type": "stream",
     "name": "stdout",
     "text": [
      "Episode: 100000\nTraining complete.\n\n"
     ]
    }
   ],
   "source": [
    "''' Having the agent solve the environment and learning through the use and updating of the q-table. '''\n",
    "\n",
    "# init a q-table with a 500x6 matrix of zeros, as there's 500 states in the Taxi Problem and 6 actions\n",
    "# as the agent explores, the q-table will be modified to act as a kind of memory about the reward system\n",
    "q_table = np.zeros([env.observation_space.n, env.action_space.n])\n",
    "\n",
    "# hyperparameters, not optimized\n",
    "alpha = 0.1\n",
    "gamma = 0.6\n",
    "epsilon = 0.1\n",
    "\n",
    "all_epochs = []\n",
    "all_penalties = []\n",
    "\n",
    "for i in range(1, 100001):\n",
    "    state = env.reset()\n",
    "    \n",
    "    epochs, penalties, reward = 0, 0, 0\n",
    "    done = False\n",
    "    \n",
    "    while not done:\n",
    "        if rnd.uniform(0, 1) < epsilon:\n",
    "            # if the uniform selection between 0 and 1 is less than epsilon then explore the action space\n",
    "            action = env.action_space.sample()\n",
    "        else:\n",
    "            # else epsilon is greater, so exploit the values in the q-table\n",
    "            action = np.argmax(q_table[state])\n",
    "        \n",
    "        # proceed to the next timestep, where the agent performs action and we progress to the new state\n",
    "        # and the agent receives some reward\n",
    "        next_state, reward, done, info = env.step(action)\n",
    "        \n",
    "        # the next three lines relate to applying the equation to update the q-values\n",
    "        old_value = q_table[state, action]\n",
    "        next_max = np.max(q_table[next_state])\n",
    "        \n",
    "        new_value = (1 - alpha) * old_value + alpha * (reward + gamma * next_max)\n",
    "        q_table[state, action] = new_value # write to q-table\n",
    "        \n",
    "        if reward == -10:\n",
    "            # if the agent attempts to drop-off or pick-up in the incorrect state,\n",
    "            # then a penalty is applied\n",
    "            penalties += 1\n",
    "        \n",
    "        # next state and increment epoch\n",
    "        state = next_state\n",
    "        epochs += 1\n",
    "        \n",
    "    if i % 100 == 0:\n",
    "        clear_output(wait=True)\n",
    "        print(\"Episode: {}\".format(i))\n",
    "\n",
    "print(\"Training complete.\\n\")"
   ]
  },
  {
   "cell_type": "code",
   "execution_count": 6,
   "metadata": {},
   "outputs": [
    {
     "output_type": "stream",
     "name": "stdout",
     "text": [
      "Results after 100 episodes -\nAverage timesteps per episode: 13.33\nAverage penalties per episode: 0.0\n"
     ]
    }
   ],
   "source": [
    "''' Evaluating the agent after Q-Learning by having the agent only exploit the table. '''\n",
    "\n",
    "total_epochs, total_penalties = 0, 0\n",
    "episodes = 100\n",
    "\n",
    "for _ in range(episodes):\n",
    "    state = env.reset()\n",
    "    epochs, penalties, reward = 0, 0, 0\n",
    "    done = False\n",
    "\n",
    "    while not done:\n",
    "        action = np.argmax(q_table[state]) # exploits the table each time\n",
    "        state, reward, done, info = env.step(action)\n",
    "\n",
    "        if reward == -10:\n",
    "            penalties += 1\n",
    "        \n",
    "        epochs += 1\n",
    "\n",
    "    total_penalties += penalties\n",
    "    total_epochs += epochs\n",
    "\n",
    "print(\"Results after {} episodes -\".format(episodes))\n",
    "print(\"Average timesteps per episode: {}\".format(total_epochs / episodes))\n",
    "print(\"Average penalties per episode: {}\".format(total_penalties / episodes))"
   ]
  }
 ]
}